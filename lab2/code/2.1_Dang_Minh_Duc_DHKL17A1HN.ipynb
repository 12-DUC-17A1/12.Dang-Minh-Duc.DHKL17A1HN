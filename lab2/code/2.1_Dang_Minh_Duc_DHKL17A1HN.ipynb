{
 "cells": [
  {
   "cell_type": "markdown",
   "metadata": {},
   "source": [
    "1. Tạo Dữ Liệu Mô Phỏng Nhiệt Độ: (10 phút)\n",
    " Hãy tạo một mảng Numpy mô phỏng dữ liệu nhiệt độ hàng ngày trong một tháng là\n",
    "số thực. Làm tròn dữ liệu đến 2 chữ số sau dấu phẩy\n",
    " Cho biết nhiệt độ trung bình trong tháng là bao nhiêu?"
   ]
  },
  {
   "cell_type": "code",
   "execution_count": 2,
   "metadata": {},
   "outputs": [
    {
     "name": "stdout",
     "output_type": "stream",
     "text": [
      "Dữ liệu nhiệt độ (Celsius): [17.98 18.44 34.18 25.57 22.45 22.23 21.08 33.12 23.04 28.48 26.52 25.03\n",
      " 32.26 18.03 24.48 26.36 15.19 19.51 34.75 26.02 15.53 30.54 28.45 22.97\n",
      " 15.08 32.88 19.48 17.81 18.07 21.24]\n",
      "Nhiệt độ trung bình trong tháng: 23.89 °C\n"
     ]
    }
   ],
   "source": [
    "import numpy as np\n",
    "\n",
    "# Tạo mảng nhiệt độ ngẫu nhiên (giả sử trong khoảng từ 15 đến 35 độ C)\n",
    "n_days = 30\n",
    "nhiet_do = np.random.uniform(15, 50, n_days)\n",
    "\n",
    "# Làm tròn dữ liệu đến 2 chữ số sau dấu phẩy\n",
    "lam_tron_nhiet_do = np.round(nhiet_do, 2)\n",
    "\n",
    "# Tính nhiệt độ trung bình trong tháng\n",
    "nhiet_do_trung_binh = np.mean(lam_tron_nhiet_do)\n",
    "\n",
    "# In kết quả\n",
    "print(\"Dữ liệu nhiệt độ (Celsius):\", lam_tron_nhiet_do)\n",
    "print(\"Nhiệt độ trung bình trong tháng:\", round(nhiet_do_trung_binh, 2), \"°C\")\n"
   ]
  },
  {
   "cell_type": "markdown",
   "metadata": {},
   "source": [
    "2. Phân Tích Xu Hướng Nhiệt Độ: (5-10 phút)\n",
    " Xác định ngày có nhiệt độ cao nhất, thấp nhất cho biết đó là ngày thứ mấy trong\n",
    "tháng?\n",
    " Thống kê sự chênh lệch nhiệt độ giữa các ngày, tìm ngày có sự biến đổi nhiệt độ cao\n",
    "nhất?"
   ]
  },
  {
   "cell_type": "code",
   "execution_count": 4,
   "metadata": {},
   "outputs": [
    {
     "name": "stdout",
     "output_type": "stream",
     "text": [
      "Dữ liệu nhiệt độ (Celsius): [39.89 29.1  30.05 35.19 19.12 46.18 20.41 36.67 17.65 31.61 26.25 42.74\n",
      " 24.25 45.   37.25 33.02 34.56 34.46 22.78 48.59 37.22 20.77 26.88 29.36\n",
      " 38.71 38.07 44.09 35.52 33.33 22.59]\n",
      "Ngày có nhiệt độ cao nhất là ngày thứ 20 với nhiệt độ: 48.59°C\n",
      "Ngày có nhiệt độ thấp nhất là ngày thứ 9 với nhiệt độ: 17.65°C\n",
      "Ngày có sự biến đổi nhiệt độ cao nhất là ngày thứ 5 với độ chênh lệch: 27.06°C\n"
     ]
    }
   ],
   "source": [
    "import numpy as np\n",
    "\n",
    "# Tạo mảng nhiệt độ ngẫu nhiên (giả sử trong khoảng từ 15 đến 35 độ C)\n",
    "n_days = 30\n",
    "nhiet_do = np.random.uniform(15, 50, n_days)\n",
    "\n",
    "# Làm tròn dữ liệu đến 2 chữ số sau dấu phẩy\n",
    "lam_tron_nhiet_do = np.round(nhiet_do, 2)\n",
    "\n",
    "# 1. Xác định ngày có nhiệt độ cao nhất và thấp nhất\n",
    "max_temp_day = np.argmax(lam_tron_nhiet_do) + 1  # ngay co chi so nhiet do cao nhat     \n",
    "min_temp_day = np.argmin(lam_tron_nhiet_do) + 1  # ngay co chi so nhiet do thap nhat\n",
    "\n",
    "# 2. Tính sự chênh lệch nhiệt độ giữa các ngày liền kề\n",
    "temp_diff = np.abs(np.diff(lam_tron_nhiet_do))\n",
    "\n",
    "# Tìm ngày có sự biến đổi nhiệt độ cao nhất\n",
    "max_temp_diff_day = np.argmax(temp_diff) + 1  # Ngày có sự biến đổi nhiệt độ cao nhất\n",
    "\n",
    "# In kết quả\n",
    "print(\"Dữ liệu nhiệt độ (Celsius):\", lam_tron_nhiet_do)\n",
    "print(f\"Ngày có nhiệt độ cao nhất là ngày thứ {max_temp_day} với nhiệt độ: {lam_tron_nhiet_do[max_temp_day-1]}°C\")\n",
    "print(f\"Ngày có nhiệt độ thấp nhất là ngày thứ {min_temp_day} với nhiệt độ: {lam_tron_nhiet_do[min_temp_day-1]}°C\")\n",
    "print(f\"Ngày có sự biến đổi nhiệt độ cao nhất là ngày thứ {max_temp_diff_day} với độ chênh lệch: {temp_diff[max_temp_diff_day-1]}°C\")\n"
   ]
  },
  {
   "cell_type": "markdown",
   "metadata": {},
   "source": [
    "3.Áp dụng Fancy Indexing: (10 phút)\n",
    "Đưa ra tất cả các ngày có nhiệt độ cao hơn 20 độ C.\n",
    "Lấy nhiệt độ của ngày 5, 10, 15, 20, và 25.\n",
    "Tìm nhiệt độ của các ngày có nhiệt độ trên trung bình.\n",
    "Lấy nhiệt độ của các ngày chẵn/lẻ trong tháng."
   ]
  },
  {
   "cell_type": "code",
   "execution_count": 7,
   "metadata": {},
   "outputs": [
    {
     "name": "stdout",
     "output_type": "stream",
     "text": [
      "Tất cả các ngày có nhiệt độ cao hơn 20°C: [29.97 28.02 29.84 33.14 27.84 30.94 22.39 22.72 22.15 23.21 27.09 33.86\n",
      " 27.23 28.92 31.48 29.49 24.69 33.23 33.03 26.23 26.96 26.83]\n",
      "Nhiệt độ của ngày 5, 10, 15, 20, 25: [33.14 22.72 33.86 16.53 33.03]\n",
      "Nhiệt độ của các ngày có nhiệt độ trên trung bình: [29.97 28.02 29.84 33.14 27.84 30.94 27.09 33.86 27.23 28.92 31.48 29.49\n",
      " 33.23 33.03 26.23 26.96 26.83]\n",
      "Nhiệt độ của các ngày chẵn trong tháng: [28.02 15.59 27.84 30.94 22.72 22.15 27.09 27.23 31.48 16.53 15.95 19.07\n",
      " 26.23 15.04 26.83]\n",
      "Nhiệt độ của các ngày lẻ trong tháng: [29.97 29.84 33.14 17.61 22.39 17.86 23.21 33.86 28.92 29.49 24.69 33.23\n",
      " 33.03 17.22 26.96]\n"
     ]
    }
   ],
   "source": [
    "import numpy as np\n",
    "\n",
    "# Tạo mảng nhiệt độ ngẫu nhiên (giả sử trong khoảng từ 15 đến 35 độ C)\n",
    "n_days = 30\n",
    "nhiet_do = np.random.uniform(15, 35, n_days)\n",
    "\n",
    "# Làm tròn dữ liệu đến 2 chữ số sau dấu phẩy\n",
    "lam_tron_nhiet_do = np.round(nhiet_do, 2)\n",
    "\n",
    "# 1. Tất cả các ngày có nhiệt độ cao hơn 20 độ C\n",
    "tren_20 = lam_tron_nhiet_do[lam_tron_nhiet_do > 20]\n",
    "\n",
    "# 2. Lấy nhiệt độ của ngày 5, 10, 15, 20, và 25\n",
    "ngay = np.array([5, 10, 15, 20, 25])  # Chuyển thành mảng Numpy\n",
    "specific_days_temperatures = lam_tron_nhiet_do[ngay - 1]  # Trừ 1 để chuyển sang chỉ số Python (0-indexed)\n",
    "\n",
    "# 3. Tìm nhiệt độ của các ngày có nhiệt độ trên trung bình\n",
    "nhiet_do_trung_binh = np.mean(lam_tron_nhiet_do)\n",
    "nhiet_do_tren_trung_binh = lam_tron_nhiet_do[lam_tron_nhiet_do > nhiet_do_trung_binh]\n",
    "\n",
    "# 4. Lấy nhiệt độ của các ngày chẵn trong tháng (chỉ số chẵn, tức là ngày 2, 4, 6, ...)\n",
    "nhiet_do_ngay_chan = lam_tron_nhiet_do[1::2]  # Bắt đầu từ chỉ số 1 (ngày 2, 4, 6, ...)\n",
    "\n",
    "# Lấy nhiệt độ của các ngày lẻ trong tháng (chỉ số lẻ, tức là ngày 1, 3, 5, ...)\n",
    "nhiet_do_ngay_le = lam_tron_nhiet_do[::2]  # Bắt đầu từ chỉ số 0 (ngày 1, 3, 5, ...)\n",
    "\n",
    "# In kết quả\n",
    "print(\"Tất cả các ngày có nhiệt độ cao hơn 20°C:\", tren_20)\n",
    "print(\"Nhiệt độ của ngày 5, 10, 15, 20, 25:\", specific_days_temperatures)\n",
    "print(\"Nhiệt độ của các ngày có nhiệt độ trên trung bình:\", nhiet_do_tren_trung_binh)\n",
    "print(\"Nhiệt độ của các ngày chẵn trong tháng:\", nhiet_do_ngay_chan)\n",
    "print(\"Nhiệt độ của các ngày lẻ trong tháng:\", nhiet_do_ngay_le)\n"
   ]
  }
 ],
 "metadata": {
  "kernelspec": {
   "display_name": "Python 3",
   "language": "python",
   "name": "python3"
  },
  "language_info": {
   "codemirror_mode": {
    "name": "ipython",
    "version": 3
   },
   "file_extension": ".py",
   "mimetype": "text/x-python",
   "name": "python",
   "nbconvert_exporter": "python",
   "pygments_lexer": "ipython3",
   "version": "3.13.0"
  }
 },
 "nbformat": 4,
 "nbformat_minor": 2
}
