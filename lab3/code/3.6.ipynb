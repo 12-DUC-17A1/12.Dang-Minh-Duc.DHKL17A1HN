{
 "cells": [
  {
   "cell_type": "markdown",
   "metadata": {},
   "source": [
    "1. Tạo Pivot Table từ DataFrame stocks với date làm chỉ mục, symbol làm cột, và giá\n",
    "trị trung bình của close làm giá trị."
   ]
  },
  {
   "cell_type": "code",
   "execution_count": 1,
   "metadata": {},
   "outputs": [
    {
     "name": "stdout",
     "output_type": "stream",
     "text": [
      "Pivot Table ban đầu:\n",
      "symbol      AAPL     AMZN      FB     GOOG    TSLA\n",
      "date                                              \n",
      "01-03-19  174.97  1671.73  162.28  1140.99  294.79\n",
      "04-03-19  175.85  1696.17  167.37  1147.80  285.36\n",
      "05-03-19  175.53  1692.43  171.26  1162.03  276.54\n",
      "06-03-19  174.52  1668.95  172.51  1157.86  276.24\n",
      "07-03-19  172.50  1625.95  169.13  1143.30  276.59\n"
     ]
    }
   ],
   "source": [
    "import pandas as pd\n",
    "\n",
    "# Đọc dữ liệu stocks từ file stocks1.csv và stocks2.csv (gộp lại)\n",
    "stocks1 = pd.read_csv('D:/python nc bai tap/lab3/data/stocks1.csv')\n",
    "stocks2 = pd.read_csv('D:/python nc bai tap/lab3/data/stocks2.csv')\n",
    "stocks = pd.concat([stocks1, stocks2], ignore_index=True)\n",
    "\n",
    "# 1. Tạo Pivot Table với date làm chỉ mục, symbol làm cột, và giá trị trung bình của close làm giá trị\n",
    "pivot_table = stocks.pivot_table(values='close', index='date', columns='symbol', aggfunc='mean')\n",
    "print(\"Pivot Table ban đầu:\")\n",
    "print(pivot_table.head())"
   ]
  },
  {
   "cell_type": "markdown",
   "metadata": {},
   "source": [
    "2. Thêm một cột tính tổng volume giao dịch cho mỗi mã chứng khoán (symbol)."
   ]
  },
  {
   "cell_type": "code",
   "execution_count": 2,
   "metadata": {},
   "outputs": [
    {
     "name": "stdout",
     "output_type": "stream",
     "text": [
      "\n",
      "Tổng volume giao dịch cho mỗi mã chứng khoán:\n",
      "symbol\n",
      "AAPL    118666547\n",
      "AMZN     23776775\n",
      "FB       98018576\n",
      "GOOG      6605385\n",
      "TSLA     78550901\n",
      "Name: volume, dtype: int64\n"
     ]
    }
   ],
   "source": [
    "total_volume = stocks.groupby('symbol')['volume'].sum()\n",
    "print(\"\\nTổng volume giao dịch cho mỗi mã chứng khoán:\")\n",
    "print(total_volume)"
   ]
  },
  {
   "cell_type": "markdown",
   "metadata": {},
   "source": [
    "3. Sắp xếp Pivot Table dựa trên tổng volume giao dịch, từ cao xuống thấp.\n"
   ]
  },
  {
   "cell_type": "code",
   "execution_count": 3,
   "metadata": {},
   "outputs": [
    {
     "name": "stdout",
     "output_type": "stream",
     "text": [
      "\n",
      "Tổng volume giao dịch sắp xếp từ cao xuống thấp:\n",
      "symbol\n",
      "AAPL    118666547\n",
      "FB       98018576\n",
      "TSLA     78550901\n",
      "AMZN     23776775\n",
      "GOOG      6605385\n",
      "Name: volume, dtype: int64\n"
     ]
    }
   ],
   "source": [
    "sorted_volume = total_volume.sort_values(ascending=False)\n",
    "print(\"\\nTổng volume giao dịch sắp xếp từ cao xuống thấp:\")\n",
    "print(sorted_volume)"
   ]
  },
  {
   "cell_type": "markdown",
   "metadata": {},
   "source": [
    "4. Hiển thị kết quả cho 5 mã chứng khoán có tổng volume giao dịch cao nhất."
   ]
  },
  {
   "cell_type": "code",
   "execution_count": 4,
   "metadata": {},
   "outputs": [
    {
     "name": "stdout",
     "output_type": "stream",
     "text": [
      "\n",
      "5 mã chứng khoán có tổng volume giao dịch cao nhất:\n",
      "symbol\n",
      "AAPL    118666547\n",
      "FB       98018576\n",
      "TSLA     78550901\n",
      "AMZN     23776775\n",
      "GOOG      6605385\n",
      "Name: volume, dtype: int64\n"
     ]
    }
   ],
   "source": [
    "top_5_symbols = sorted_volume.head(5)\n",
    "print(\"\\n5 mã chứng khoán có tổng volume giao dịch cao nhất:\")\n",
    "print(top_5_symbols)"
   ]
  }
 ],
 "metadata": {
  "kernelspec": {
   "display_name": "Python 3",
   "language": "python",
   "name": "python3"
  },
  "language_info": {
   "codemirror_mode": {
    "name": "ipython",
    "version": 3
   },
   "file_extension": ".py",
   "mimetype": "text/x-python",
   "name": "python",
   "nbconvert_exporter": "python",
   "pygments_lexer": "ipython3",
   "version": "3.13.0"
  }
 },
 "nbformat": 4,
 "nbformat_minor": 2
}
