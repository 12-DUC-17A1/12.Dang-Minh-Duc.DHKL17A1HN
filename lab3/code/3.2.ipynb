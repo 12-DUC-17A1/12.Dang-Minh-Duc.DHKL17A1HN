{
 "cells": [
  {
   "cell_type": "markdown",
   "metadata": {},
   "source": [
    "# 1. Kiểm tra xem trong stocks1 có dữ liệu Null nào không\n"
   ]
  },
  {
   "cell_type": "code",
   "execution_count": 1,
   "metadata": {},
   "outputs": [
    {
     "name": "stderr",
     "output_type": "stream",
     "text": [
      "<>:4: SyntaxWarning: invalid escape sequence '\\p'\n",
      "<>:4: SyntaxWarning: invalid escape sequence '\\p'\n",
      "C:\\Users\\ADMIN\\AppData\\Local\\Temp\\ipykernel_16816\\2094466896.py:4: SyntaxWarning: invalid escape sequence '\\p'\n",
      "  stocks1 = pd.read_csv(\"D:\\python nc bai tap\\lab3\\data\\stocks1.csv\")\n"
     ]
    },
    {
     "name": "stdout",
     "output_type": "stream",
     "text": [
      "Số lượng giá trị Null trong từng cột:\n",
      "date      0\n",
      "symbol    0\n",
      "open      0\n",
      "high      2\n",
      "low       2\n",
      "close     0\n",
      "volume    0\n",
      "dtype: int64\n"
     ]
    }
   ],
   "source": [
    "import pandas as pd\n",
    "\n",
    "# 1. Đọc file stocks1.csv vào DataFrame stocks1\n",
    "stocks1 = pd.read_csv(\"D:\\python nc bai tap\\lab3\\data\\stocks1.csv\")\n",
    "\n",
    "print(\"Số lượng giá trị Null trong từng cột:\")\n",
    "print(stocks1.isnull().sum())"
   ]
  },
  {
   "cell_type": "markdown",
   "metadata": {},
   "source": [
    "2. Thay thế dữ liệu Null ở cột high bằng giá trị trung bình của cột high."
   ]
  },
  {
   "cell_type": "code",
   "execution_count": 2,
   "metadata": {},
   "outputs": [
    {
     "name": "stderr",
     "output_type": "stream",
     "text": [
      "C:\\Users\\ADMIN\\AppData\\Local\\Temp\\ipykernel_16816\\1963472381.py:3: FutureWarning: A value is trying to be set on a copy of a DataFrame or Series through chained assignment using an inplace method.\n",
      "The behavior will change in pandas 3.0. This inplace method will never work because the intermediate object on which we are setting values always behaves as a copy.\n",
      "\n",
      "For example, when doing 'df[col].method(value, inplace=True)', try using 'df.method({col: value}, inplace=True)' or df[col] = df[col].method(value) instead, to perform the operation inplace on the original object.\n",
      "\n",
      "\n",
      "  stocks1['high'].fillna(high_mean, inplace=True)\n"
     ]
    }
   ],
   "source": [
    "if 'high' in stocks1.columns:\n",
    "    high_mean = stocks1['high'].mean()\n",
    "    stocks1['high'].fillna(high_mean, inplace=True)"
   ]
  },
  {
   "cell_type": "markdown",
   "metadata": {},
   "source": [
    "3. Thay thế dữ liệu Null ở cột low bằng giá trị trung bình của cột low."
   ]
  },
  {
   "cell_type": "code",
   "execution_count": 3,
   "metadata": {},
   "outputs": [
    {
     "name": "stderr",
     "output_type": "stream",
     "text": [
      "C:\\Users\\ADMIN\\AppData\\Local\\Temp\\ipykernel_16816\\391737555.py:3: FutureWarning: A value is trying to be set on a copy of a DataFrame or Series through chained assignment using an inplace method.\n",
      "The behavior will change in pandas 3.0. This inplace method will never work because the intermediate object on which we are setting values always behaves as a copy.\n",
      "\n",
      "For example, when doing 'df[col].method(value, inplace=True)', try using 'df.method({col: value}, inplace=True)' or df[col] = df[col].method(value) instead, to perform the operation inplace on the original object.\n",
      "\n",
      "\n",
      "  stocks1['low'].fillna(low_mean, inplace=True)\n"
     ]
    }
   ],
   "source": [
    "if 'low' in stocks1.columns:\n",
    "    low_mean = stocks1['low'].mean()\n",
    "    stocks1['low'].fillna(low_mean, inplace=True)"
   ]
  },
  {
   "cell_type": "markdown",
   "metadata": {},
   "source": [
    "\n",
    "# 4. Hiển thị thông tin tổng quan để xác nhận không còn dữ liệu Null"
   ]
  },
  {
   "cell_type": "code",
   "execution_count": 4,
   "metadata": {},
   "outputs": [
    {
     "name": "stdout",
     "output_type": "stream",
     "text": [
      "\n",
      "Thông tin tổng quan sau khi xử lý dữ liệu Null:\n",
      "<class 'pandas.core.frame.DataFrame'>\n",
      "RangeIndex: 15 entries, 0 to 14\n",
      "Data columns (total 7 columns):\n",
      " #   Column  Non-Null Count  Dtype  \n",
      "---  ------  --------------  -----  \n",
      " 0   date    15 non-null     object \n",
      " 1   symbol  15 non-null     object \n",
      " 2   open    15 non-null     float64\n",
      " 3   high    15 non-null     float64\n",
      " 4   low     15 non-null     float64\n",
      " 5   close   15 non-null     float64\n",
      " 6   volume  15 non-null     int64  \n",
      "dtypes: float64(4), int64(1), object(2)\n",
      "memory usage: 972.0+ bytes\n",
      "None\n"
     ]
    }
   ],
   "source": [
    "print(\"\\nThông tin tổng quan sau khi xử lý dữ liệu Null:\")\n",
    "print(stocks1.info())"
   ]
  }
 ],
 "metadata": {
  "kernelspec": {
   "display_name": "Python 3",
   "language": "python",
   "name": "python3"
  },
  "language_info": {
   "codemirror_mode": {
    "name": "ipython",
    "version": 3
   },
   "file_extension": ".py",
   "mimetype": "text/x-python",
   "name": "python",
   "nbconvert_exporter": "python",
   "pygments_lexer": "ipython3",
   "version": "3.13.0"
  }
 },
 "nbformat": 4,
 "nbformat_minor": 2
}
