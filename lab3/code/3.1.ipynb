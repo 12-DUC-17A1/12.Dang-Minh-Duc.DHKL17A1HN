{
 "cells": [
  {
   "cell_type": "markdown",
   "metadata": {},
   "source": [
    "\n",
    "# 1. Đọc file stocks1.csv vào DataFrame stocks1"
   ]
  },
  {
   "cell_type": "code",
   "execution_count": 1,
   "metadata": {},
   "outputs": [
    {
     "name": "stderr",
     "output_type": "stream",
     "text": [
      "<>:4: SyntaxWarning: invalid escape sequence '\\p'\n",
      "<>:4: SyntaxWarning: invalid escape sequence '\\p'\n",
      "C:\\Users\\ADMIN\\AppData\\Local\\Temp\\ipykernel_12404\\3237677691.py:4: SyntaxWarning: invalid escape sequence '\\p'\n",
      "  stocks1 = pd.read_csv(\"D:\\python nc bai tap\\lab3\\data\\stocks1.csv\")\n"
     ]
    },
    {
     "name": "stdout",
     "output_type": "stream",
     "text": [
      "        date symbol     open     high      low    close    volume\n",
      "0   01-03-19   AMZN  1655.13  1674.26  1651.00  1671.73   4974877\n",
      "1   04-03-19   AMZN  1685.00  1709.43  1674.36  1696.17   6167358\n",
      "2   05-03-19   AMZN  1702.95  1707.80  1689.01  1692.43   3681522\n",
      "3   06-03-19   AMZN  1695.97      NaN      NaN  1668.95   3996001\n",
      "4   07-03-19   AMZN  1667.37  1669.75  1620.51  1625.95   4957017\n",
      "5   01-03-19   AAPL   174.28   175.15   172.89   174.97  25886167\n",
      "6   04-03-19   AAPL   175.69   177.75   173.97   175.85  27436203\n",
      "7   05-03-19   AAPL   175.94   176.00   174.54   175.53  19737419\n",
      "8   06-03-19   AAPL   174.67   175.49   173.94   174.52  20810384\n",
      "9   07-03-19   AAPL   173.87   174.44   172.02   172.50  24796374\n",
      "10  01-03-19   GOOG  1124.90  1142.97  1124.75  1140.99   1450316\n",
      "11  04-03-19   GOOG  1146.99  1158.28  1130.69  1147.80   1446047\n",
      "12  05-03-19   GOOG  1150.06      NaN      NaN  1162.03   1443174\n",
      "13  06-03-19   GOOG  1162.49  1167.57  1155.49  1157.86   1099289\n",
      "14  07-03-19   GOOG  1155.72  1156.76  1134.91  1143.30   1166559\n"
     ]
    }
   ],
   "source": [
    "import pandas as pd\n",
    "\n",
    "# 1. Đọc file stocks1.csv vào DataFrame stocks1\n",
    "stocks1 = pd.read_csv(\"D:\\python nc bai tap\\lab3\\data\\stocks1.csv\")\n",
    "print(stocks1)"
   ]
  },
  {
   "cell_type": "markdown",
   "metadata": {},
   "source": [
    "# 2. Hiển thị 5 dòng đầu tiên của stocks1\n"
   ]
  },
  {
   "cell_type": "code",
   "execution_count": 31,
   "metadata": {},
   "outputs": [
    {
     "name": "stdout",
     "output_type": "stream",
     "text": [
      "5 dòng đầu tiên của stocks1:\n",
      "       date symbol     open     high      low    close   volume\n",
      "0  01-03-19   AMZN  1655.13  1674.26  1651.00  1671.73  4974877\n",
      "1  04-03-19   AMZN  1685.00  1709.43  1674.36  1696.17  6167358\n",
      "2  05-03-19   AMZN  1702.95  1707.80  1689.01  1692.43  3681522\n",
      "3  06-03-19   AMZN  1695.97      NaN      NaN  1668.95  3996001\n",
      "4  07-03-19   AMZN  1667.37  1669.75  1620.51  1625.95  4957017\n"
     ]
    }
   ],
   "source": [
    "print(\"5 dòng đầu tiên của stocks1:\")\n",
    "print(stocks1.head())"
   ]
  },
  {
   "cell_type": "markdown",
   "metadata": {},
   "source": [
    "# 3. Hiển thị kiểu dữ liệu (dtype) của mỗi cột trong stocks1"
   ]
  },
  {
   "cell_type": "code",
   "execution_count": 32,
   "metadata": {},
   "outputs": [
    {
     "name": "stdout",
     "output_type": "stream",
     "text": [
      "\n",
      "Kiểu dữ liệu của mỗi cột trong stocks1:\n",
      "date       object\n",
      "symbol     object\n",
      "open      float64\n",
      "high      float64\n",
      "low       float64\n",
      "close     float64\n",
      "volume      int64\n",
      "dtype: object\n"
     ]
    }
   ],
   "source": [
    "print(\"\\nKiểu dữ liệu của mỗi cột trong stocks1:\")\n",
    "print(stocks1.dtypes)"
   ]
  },
  {
   "cell_type": "markdown",
   "metadata": {},
   "source": [
    "\n",
    "# 4. Xem thông tin tổng quan (info) của stocks1"
   ]
  },
  {
   "cell_type": "code",
   "execution_count": 33,
   "metadata": {},
   "outputs": [
    {
     "name": "stdout",
     "output_type": "stream",
     "text": [
      "\n",
      "Thông tin tổng quan của stocks1:\n",
      "<class 'pandas.core.frame.DataFrame'>\n",
      "RangeIndex: 15 entries, 0 to 14\n",
      "Data columns (total 7 columns):\n",
      " #   Column  Non-Null Count  Dtype  \n",
      "---  ------  --------------  -----  \n",
      " 0   date    15 non-null     object \n",
      " 1   symbol  15 non-null     object \n",
      " 2   open    15 non-null     float64\n",
      " 3   high    13 non-null     float64\n",
      " 4   low     13 non-null     float64\n",
      " 5   close   15 non-null     float64\n",
      " 6   volume  15 non-null     int64  \n",
      "dtypes: float64(4), int64(1), object(2)\n",
      "memory usage: 972.0+ bytes\n",
      "None\n"
     ]
    }
   ],
   "source": [
    "print(\"\\nThông tin tổng quan của stocks1:\")\n",
    "print(stocks1.info())"
   ]
  }
 ],
 "metadata": {
  "kernelspec": {
   "display_name": "Python 3",
   "language": "python",
   "name": "python3"
  },
  "language_info": {
   "codemirror_mode": {
    "name": "ipython",
    "version": 3
   },
   "file_extension": ".py",
   "mimetype": "text/x-python",
   "name": "python",
   "nbconvert_exporter": "python",
   "pygments_lexer": "ipython3",
   "version": "3.13.0"
  }
 },
 "nbformat": 4,
 "nbformat_minor": 2
}
