{
 "cells": [
  {
   "cell_type": "code",
   "execution_count": 18,
   "metadata": {},
   "outputs": [
    {
     "name": "stdout",
     "output_type": "stream",
     "text": [
      "{'cong_ty': {'ten': 'cong ty tnhh dat viet ', 'dia_chi': 'abc giai phong-Ha Noi'}, 'nhan_vien': [{'ten': 'Dang Minh Duc', 'ten don vi': 'don vi 1'}, {'ten': 'Dang Minh Duc 2', 'ten don vi': 'don vi 2'}, {'ten': 'Dang Minh Duc 3', 'ten don vi': 'don vi 3'}, {'ten': 'Dang Minh Duc 4', 'ten don vi': 'don vi 4'}, {'ten': 'Dang Minh Duc 5', 'ten don vi': 'don vi 5'}]}\n",
      "Công ty: cong ty tnhh dat viet \n",
      "Địa chỉ công ty: abc giai phong-Ha Noi\n",
      "Counter({'don vi 1': 1, 'don vi 2': 1, 'don vi 3': 1, 'don vi 4': 1, 'don vi 5': 1})\n",
      "1. Tên đơn vị: don vi 1\n",
      "- Số nhân viên: 1\n",
      "- Tỷ lệ: 20.00%\n",
      "2. Tên đơn vị: don vi 2\n",
      "- Số nhân viên: 1\n",
      "- Tỷ lệ: 20.00%\n",
      "3. Tên đơn vị: don vi 3\n",
      "- Số nhân viên: 1\n",
      "- Tỷ lệ: 20.00%\n",
      "4. Tên đơn vị: don vi 4\n",
      "- Số nhân viên: 1\n",
      "- Tỷ lệ: 20.00%\n",
      "5. Tên đơn vị: don vi 5\n",
      "- Số nhân viên: 1\n",
      "- Tỷ lệ: 20.00%\n"
     ]
    }
   ],
   "source": [
    "import json\n",
    "from collections import Counter\n",
    "\n",
    "# Đọc tệp JSON\n",
    "with open('2.10.json', 'r', encoding='utf-8') as f:\n",
    "    data = f.read()\n",
    "\n",
    "# Tải dữ liệu từ JSON\n",
    "infor = json.loads(data)\n",
    "\n",
    "# In ra dữ liệu để kiểm tra cấu trúc\n",
    "print(infor)\n",
    "\n",
    "# Lấy thông tin công ty\n",
    "ten_cong_ty = infor['cong_ty']['ten']\n",
    "dia_chi_cong_ty = infor['cong_ty']['dia_chi']\n",
    "nhan_vien = infor['nhan_vien']\n",
    "tong_nhan_vien = len(nhan_vien)\n",
    "thong_ke_don_vi = Counter(nv['ten don vi'] for nv in nhan_vien)\n",
    "\n",
    "# In thông tin công ty\n",
    "print(\"Công ty:\", ten_cong_ty)\n",
    "print(\"Địa chỉ công ty:\", dia_chi_cong_ty)\n",
    "print(thong_ke_don_vi)\n",
    "\n",
    "# In thống kê đơn vị\n",
    "for idx, (don_vi, so_nhan_vien) in enumerate(thong_ke_don_vi.items(), 1):\n",
    "    ty_le = (so_nhan_vien / tong_nhan_vien) * 100 \n",
    "    print(f\"{idx}. Tên đơn vị: {don_vi}\")\n",
    "    print(f\"- Số nhân viên: {so_nhan_vien}\")\n",
    "    print(f\"- Tỷ lệ: {ty_le:.2f}%\")\n",
    "\n"
   ]
  }
 ],
 "metadata": {
  "kernelspec": {
   "display_name": "Python 3",
   "language": "python",
   "name": "python3"
  },
  "language_info": {
   "codemirror_mode": {
    "name": "ipython",
    "version": 3
   },
   "file_extension": ".py",
   "mimetype": "text/x-python",
   "name": "python",
   "nbconvert_exporter": "python",
   "pygments_lexer": "ipython3",
   "version": "3.12.0"
  }
 },
 "nbformat": 4,
 "nbformat_minor": 2
}
