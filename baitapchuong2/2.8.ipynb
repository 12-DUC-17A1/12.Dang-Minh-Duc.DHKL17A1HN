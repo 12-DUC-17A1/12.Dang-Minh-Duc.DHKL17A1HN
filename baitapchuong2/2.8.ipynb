{
 "cells": [
  {
   "cell_type": "code",
   "execution_count": 2,
   "metadata": {},
   "outputs": [
    {
     "name": "stdout",
     "output_type": "stream",
     "text": [
      "Chuỗi JSON:\n",
      "{\"name\": \"John\", \"age\": 30, \"city\": \"New York\", \"skills\": [\"Python\", \"Java\", \"C++\"]}\n",
      "\n",
      "Tất cả các giá trị trong đối tượng Python:\n",
      "name: John\n",
      "age: 30\n",
      "city: New York\n",
      "skills: ['Python', 'Java', 'C++']\n"
     ]
    }
   ],
   "source": [
    "import json\n",
    "\n",
    "# Tạo đối tượng Python (dạng từ điển)\n",
    "python_obj = {\n",
    "    \"name\": \"John\",\n",
    "    \"age\": 30,\n",
    "    \"city\": \"New York\",\n",
    "    \"skills\": [\"Python\", \"Java\", \"C++\"]\n",
    "}\n",
    "\n",
    "# Chuyển đổi đối tượng Python sang chuỗi JSON\n",
    "json_str = json.dumps(python_obj)\n",
    "\n",
    "# In chuỗi JSON\n",
    "print(\"Chuỗi JSON:\")\n",
    "print(json_str)\n",
    "\n",
    "# In tất cả các giá trị từ đối tượng Python gốc\n",
    "print(\"\\nTất cả các giá trị trong đối tượng Python:\")\n",
    "for key, value in python_obj.items():\n",
    "    print(f\"{key}: {value}\")"
   ]
  }
 ],
 "metadata": {
  "kernelspec": {
   "display_name": "Python 3",
   "language": "python",
   "name": "python3"
  },
  "language_info": {
   "codemirror_mode": {
    "name": "ipython",
    "version": 3
   },
   "file_extension": ".py",
   "mimetype": "text/x-python",
   "name": "python",
   "nbconvert_exporter": "python",
   "pygments_lexer": "ipython3",
   "version": "3.12.0"
  }
 },
 "nbformat": 4,
 "nbformat_minor": 2
}
