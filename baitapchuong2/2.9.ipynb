{
 "cells": [
  {
   "cell_type": "code",
   "execution_count": 5,
   "metadata": {},
   "outputs": [
    {
     "name": "stdout",
     "output_type": "stream",
     "text": [
      "Dữ liệu JSON với thụt lề 4:\n",
      "{\n",
      "    \"name\": \"John\",\n",
      "    \"age\": 30,\n",
      "    \"city\": \"New York\",\n",
      "    \"skills\": {\n",
      "        \"programming\": [\n",
      "            \"Python\",\n",
      "            \"Java\",\n",
      "            \"C++\"\n",
      "        ],\n",
      "        \"databases\": [\n",
      "            \"MySQL\",\n",
      "            \"PostgreSQL\"\n",
      "        ]\n",
      "    }\n",
      "}\n"
     ]
    }
   ],
   "source": [
    "import json\n",
    "\n",
    "# Tạo đối tượng từ điển Python\n",
    "python_dict = {\n",
    "    \"name\": \"John\",\n",
    "    \"age\": 30,\n",
    "    \"city\": \"New York\",\n",
    "    \"skills\": {\n",
    "        \"programming\": [\"Python\", \"Java\", \"C++\"],\n",
    "        \"databases\": [\"MySQL\", \"PostgreSQL\"]\n",
    "    }\n",
    "}\n",
    "\n",
    "# Chuyển đổi đối tượng từ điển Python sang dữ liệu JSON với mức thụt lề 4\n",
    "json_str = json.dumps(python_dict, indent=4)\n",
    "\n",
    "# In chuỗi JSON với thụt lề 4\n",
    "print(\"Dữ liệu JSON với thụt lề 4:\")\n",
    "print(json_str)"
   ]
  }
 ],
 "metadata": {
  "kernelspec": {
   "display_name": "Python 3",
   "language": "python",
   "name": "python3"
  },
  "language_info": {
   "codemirror_mode": {
    "name": "ipython",
    "version": 3
   },
   "file_extension": ".py",
   "mimetype": "text/x-python",
   "name": "python",
   "nbconvert_exporter": "python",
   "pygments_lexer": "ipython3",
   "version": "3.12.0"
  }
 },
 "nbformat": 4,
 "nbformat_minor": 2
}
