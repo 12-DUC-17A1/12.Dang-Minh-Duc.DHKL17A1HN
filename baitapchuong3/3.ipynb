{
 "cells": [
  {
   "cell_type": "code",
   "execution_count": 1,
   "metadata": {},
   "outputs": [
    {
     "name": "stdout",
     "output_type": "stream",
     "text": [
      "arr_c: [2 4]\n",
      "arr_e: [1 2 3 5 6]\n"
     ]
    }
   ],
   "source": [
    "import numpy as np\n",
    "# Khởi tạo arr_a và arr_b\n",
    "arr_a = np.array([1, 2, 3, 2, 3, 4, 3, 4, 5, 6])\n",
    "arr_b = np.array([7, 2, 10, 2, 7, 4, 9, 4, 9, 8])\n",
    "\n",
    "# Câu 1: Các phần tử duy nhất xuất hiện ở cả arr_a và arr_b\n",
    "arr_c = np.intersect1d(arr_a, arr_b)\n",
    "print(\"arr_c:\", arr_c)\n",
    "\n",
    "# Câu 2: Tạo arr_d và arr_e và chỉ giữ các phần tử xuất hiện ở arr_a\n",
    "arr_d = np.array([2, 5, 1, 6, 1, 9, 10, 10, 3, 27, 8, 6, 25, 16])\n",
    "arr_e = np.intersect1d(arr_a, arr_d)\n",
    "print(\"arr_e:\", arr_e)\n"
   ]
  }
 ],
 "metadata": {
  "kernelspec": {
   "display_name": "Python 3",
   "language": "python",
   "name": "python3"
  },
  "language_info": {
   "codemirror_mode": {
    "name": "ipython",
    "version": 3
   },
   "file_extension": ".py",
   "mimetype": "text/x-python",
   "name": "python",
   "nbconvert_exporter": "python",
   "pygments_lexer": "ipython3",
   "version": "3.13.0"
  }
 },
 "nbformat": 4,
 "nbformat_minor": 2
}
