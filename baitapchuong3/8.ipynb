{
 "cells": [
  {
   "cell_type": "code",
   "execution_count": null,
   "metadata": {},
   "outputs": [],
   "source": [
    "# Đọc dữ liệu từ heights.txt\n",
    "with open('heights.txt', 'r') as f:\n",
    "    heights = [float(line.strip()) for line in f.readlines()]\n",
    "\n",
    "# Đọc dữ liệu từ positions.txt\n",
    "with open('positions.txt', 'r') as f:\n",
    "    positions = [line.strip() for line in f.readlines()]\n",
    "    import numpy as np\n",
    "\n",
    "# a) Tạo np_positions\n",
    "np_positions = np.array(positions)\n",
    "print(np_positions.dtype)\n",
    "\n",
    "# b) Tạo np_heights\n",
    "np_heights = np.array(heights)\n",
    "print(np_heights.dtype)\n",
    "\n",
    "avg_height_GK = np.mean(np_heights[np_positions == 'GK'])\n",
    "print(f\"Chiều cao trung bình của các GK: {avg_height_GK}\")\n",
    "\n",
    "players = np.empty((len(heights),), dtype=[('height', 'float'), ('position', 'U2')])\n",
    "players['height'] = np_heights\n",
    "players['position'] = np_positions\n",
    "\n",
    "sorted_players = np.sort(players, order='height')\n",
    "highest = sorted_players[-1]\n",
    "lowest = sorted_players[0]\n",
    "print(f\"Vị trí cao nhất: {highest['position']} với chiều cao {highest['height']}\")\n",
    "print(f\"Vị trí thấp nhất: {lowest['position']} với chiều cao {lowest['height']}\")\n",
    "\n"
   ]
  },
  {
   "cell_type": "code",
   "execution_count": null,
   "metadata": {},
   "outputs": [],
   "source": []
  }
 ],
 "metadata": {
  "kernelspec": {
   "display_name": "Python 3",
   "language": "python",
   "name": "python3"
  },
  "language_info": {
   "name": "python",
   "version": "3.13.0"
  }
 },
 "nbformat": 4,
 "nbformat_minor": 2
}
