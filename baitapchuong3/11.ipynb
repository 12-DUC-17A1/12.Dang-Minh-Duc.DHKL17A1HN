{
 "cells": [
  {
   "cell_type": "code",
   "execution_count": 1,
   "metadata": {},
   "outputs": [
    {
     "ename": "NameError",
     "evalue": "name 'pd' is not defined",
     "output_type": "error",
     "traceback": [
      "\u001b[1;31m---------------------------------------------------------------------------\u001b[0m",
      "\u001b[1;31mNameError\u001b[0m                                 Traceback (most recent call last)",
      "Cell \u001b[1;32mIn[1], line 1\u001b[0m\n\u001b[1;32m----> 1\u001b[0m stocks1 \u001b[38;5;241m=\u001b[39m \u001b[43mpd\u001b[49m\u001b[38;5;241m.\u001b[39mread_csv(\u001b[38;5;124m'\u001b[39m\u001b[38;5;124mstocks1.csv\u001b[39m\u001b[38;5;124m'\u001b[39m)\n\u001b[0;32m      2\u001b[0m \u001b[38;5;28mprint\u001b[39m(stocks1\u001b[38;5;241m.\u001b[39mhead())\n\u001b[0;32m      3\u001b[0m \u001b[38;5;28mprint\u001b[39m(stocks1\u001b[38;5;241m.\u001b[39mtail())\n",
      "\u001b[1;31mNameError\u001b[0m: name 'pd' is not defined"
     ]
    }
   ],
   "source": [
    "stocks1 = pd.read_csv('stocks1.csv')\n",
    "print(stocks1.head())\n",
    "print(stocks1.tail())\n",
    "print(stocks1.dtypes)\n",
    "print(stocks1.info())\n",
    "\n",
    "stocks2 = pd.read_csv('stocks2.csv')\n",
    "print(stocks2.head())\n",
    "print(stocks2.tail())\n",
    "print(stocks2.dtypes)\n",
    "print(stocks2.info())\n",
    "\n",
    "companies = pd.read_csv('companies.csv')\n",
    "print(companies.head())\n",
    "print(companies.dtypes)\n",
    "print(companies.info())\n",
    "\n",
    "null_check = stocks1.isnull().sum()\n",
    "print(null_check)\n",
    "\n",
    "# Thay thế Null trong cột high bằng giá trị max\n",
    "stocks1['high'] = stocks1['high'].fillna(stocks1.groupby('symbol')['high'].transform('max'))\n",
    "\n",
    "# Thay thế Null trong cột low bằng giá trị min\n",
    "stocks1['low'] = stocks1['low'].fillna(stocks1.groupby('symbol')['low'].transform('min'))\n",
    "\n",
    "import pandas as pd\n",
    "\n",
    "# Giả sử bạn đã đọc stocks1 và stocks2\n",
    "stocks = pd.concat([stocks1, stocks2])\n",
    "print(stocks.tail(15))  # Hiển thị 15 dòng dữ liệu cuối\n",
    "\n",
    "stocks_companies = pd.merge(stocks, companies, left_on='symbol', right_on='name', how='left')\n",
    "print(stocks_companies.head(5))  # Hiển thị 5 dòng đầu của stocks_companies\n",
    "\n",
    "average_stats = stocks.groupby('symbol').agg({\n",
    "    'open': 'mean',\n",
    "    'high': 'mean',\n",
    "    'low': 'mean',\n",
    "    'close': 'mean',\n",
    "    'volume': 'mean'\n",
    "})\n",
    "print(average_stats)\n",
    "\n",
    "close_stats = stocks.groupby('symbol')['close'].agg(['mean', 'max', 'min'])\n",
    "print(close_stats)\n",
    "\n",
    "stocks_companies['parsed_time'] = pd.to_datetime(stocks_companies['date'])\n",
    "print(stocks_companies['parsed_time'].dtypes)  # Kiểu dữ liệu của cột parsed_time\n",
    "print(stocks_companies.head(5))  # Hiển thị 5 dòng dữ liệu đầu\n",
    "\n",
    "stocks_companies['result'] = stocks_companies.apply(lambda row: 'up' if row['close'] > row['open'] else 'down', axis=1)\n",
    "print(stocks_companies[['symbol', 'close', 'open', 'result']].head(5))\n"
   ]
  },
  {
   "cell_type": "code",
   "execution_count": null,
   "metadata": {},
   "outputs": [],
   "source": []
  }
 ],
 "metadata": {
  "kernelspec": {
   "display_name": "Python 3",
   "language": "python",
   "name": "python3"
  },
  "language_info": {
   "codemirror_mode": {
    "name": "ipython",
    "version": 3
   },
   "file_extension": ".py",
   "mimetype": "text/x-python",
   "name": "python",
   "nbconvert_exporter": "python",
   "pygments_lexer": "ipython3",
   "version": "3.13.0"
  }
 },
 "nbformat": 4,
 "nbformat_minor": 2
}
