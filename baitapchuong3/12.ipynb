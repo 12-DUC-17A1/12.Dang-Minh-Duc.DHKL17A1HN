{
 "cells": [
  {
   "cell_type": "code",
   "execution_count": null,
   "metadata": {},
   "outputs": [],
   "source": [
    "# Đọc dữ liệu từ file CSV\n",
    "movies = pd.read_csv('ml-latest-small/movies.csv')\n",
    "print(movies.head())\n",
    "\n",
    "# Kiểm tra giá trị null\n",
    "null_values = movies.isnull().sum()\n",
    "print(null_values)\n",
    "\n",
    "# Loại bỏ hoặc thay thế các giá trị null nếu cần\n",
    "movies = movies.dropna()  # Hoặc dùng movies.fillna(value)\n",
    "\n",
    "# Nếu có thêm dữ liệu khác (như ratings), bạn có thể gộp\n",
    "ratings = pd.read_csv('ml-latest-small/ratings.csv')\n",
    "movies_ratings = pd.merge(movies, ratings, on='movieId')\n",
    "print(movies_ratings.head())\n",
    "\n",
    "# Ví dụ: Lọc các bộ phim có rating trung bình lớn hơn 4\n",
    "high_rated_movies = movies_ratings[movies_ratings['rating'] > 4]\n",
    "print(high_rated_movies)\n",
    "\n",
    "# Thống kê tổng quát\n",
    "stats = movies.describe()\n",
    "print(stats)\n",
    "\n",
    "# Giả sử bạn có cột thời gian nào đó\n",
    "movies_ratings['timestamp'] = pd.to_datetime(movies_ratings['timestamp'], unit='s')\n",
    "print(movies_ratings['timestamp'].dtypes)  # Kiểu dữ liệu của cột timestamp\n",
    "\n",
    "\n"
   ]
  },
  {
   "cell_type": "code",
   "execution_count": null,
   "metadata": {},
   "outputs": [],
   "source": []
  }
 ],
 "metadata": {
  "kernelspec": {
   "display_name": "Python 3",
   "language": "python",
   "name": "python3"
  },
  "language_info": {
   "name": "python",
   "version": "3.13.0"
  }
 },
 "nbformat": 4,
 "nbformat_minor": 2
}
