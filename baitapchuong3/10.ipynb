{
 "cells": [
  {
   "cell_type": "code",
   "execution_count": null,
   "metadata": {},
   "outputs": [],
   "source": [
    "drinks = pd.read_csv('drinks.csv', index_col=0)\n",
    "print(drinks.dtypes, drinks.shape)\n",
    "print(drinks.columns)\n",
    "print(drinks.head(), drinks.tail())\n",
    "\n",
    "avg_beer_consumption = drinks.groupby('continent')['beer_servings'].mean()\n",
    "print(avg_beer_consumption)\n",
    "\n",
    "# Giả sử rằng bạn đã đọc dữ liệu vào DataFrame drinks\n",
    "wine_stats = drinks.groupby('continent')['wine_servings'].describe()\n",
    "print(wine_stats)\n",
    "\n",
    "mean_wine_consumption = drinks.groupby('continent')['wine_servings'].mean()\n",
    "print(mean_wine_consumption)\n",
    "\n",
    "avg_beer_consumption = drinks.groupby('continent')['beer_servings'].mean()\n",
    "avg_spirit_consumption = drinks.groupby('continent')['spirit_servings'].mean()\n",
    "print(\"Trung bình bia tiêu thụ:\\n\", avg_beer_consumption)\n",
    "print(\"Trung bình rượu mạnh tiêu thụ:\\n\", avg_spirit_consumption)\n",
    "\n",
    "median_beer_consumption = drinks.groupby('continent')['beer_servings'].median()\n",
    "median_spirit_consumption = drinks.groupby('continent')['spirit_servings'].median()\n",
    "print(\"Giá trị trung vị bia tiêu thụ:\\n\", median_beer_consumption)\n",
    "print(\"Giá trị trung vị rượu mạnh tiêu thụ:\\n\", median_spirit_consumption)\n",
    "\n",
    "spirit_stats = drinks.groupby('continent')['spirit_servings'].agg(['mean', 'max', 'min'])\n",
    "print(spirit_stats)\n",
    "\n",
    "sorted_drinks = drinks.sort_values(by='beer_servings', ascending=True)\n",
    "print(\"Quốc gia có lượng tiêu thụ bia nhiều nhất:\\n\", sorted_drinks.iloc[-1])\n",
    "print(\"Quốc gia có lượng tiêu thụ bia ít nhất:\\n\", sorted_drinks.iloc[0])\n",
    "print(\"5 quốc gia có lượng tiêu thụ bia cao nhất:\\n\", sorted_drinks.tail(5))\n"
   ]
  },
  {
   "cell_type": "code",
   "execution_count": null,
   "metadata": {},
   "outputs": [],
   "source": []
  }
 ],
 "metadata": {
  "kernelspec": {
   "display_name": "Python 3",
   "language": "python",
   "name": "python3"
  },
  "language_info": {
   "name": "python",
   "version": "3.13.0"
  }
 },
 "nbformat": 4,
 "nbformat_minor": 2
}
