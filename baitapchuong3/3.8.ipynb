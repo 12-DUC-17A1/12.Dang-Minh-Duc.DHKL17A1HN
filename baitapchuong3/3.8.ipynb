{
 "cells": [
  {
   "cell_type": "code",
   "execution_count": 5,
   "metadata": {},
   "outputs": [
    {
     "name": "stdout",
     "output_type": "stream",
     "text": [
      "<U18626\n",
      "float64\n",
      "Dữ liệu không đồng bộ giữa chiều cao và vị trí.\n",
      "Vị trí cao nhất: ï» với chiều cao 208.0\n",
      "Vị trí thấp nhất: ï» với chiều cao 158.0\n"
     ]
    }
   ],
   "source": [
    "# Đọc dữ liệu từ heights.txt\n",
    "with open('heights.txt', 'r', encoding='utf-8-sig') as f:\n",
    "    heights = [float(height.strip()) for height in f.read().split(',')]\n",
    "\n",
    "# Đọc dữ liệu từ positions.txt\n",
    "with open('positions.txt', 'r') as f:\n",
    "    positions = [line.strip() for line in f.readlines()]\n",
    "\n",
    "import numpy as np\n",
    "\n",
    "# a) Tạo np_positions\n",
    "np_positions = np.array(positions)\n",
    "print(np_positions.dtype)\n",
    "\n",
    "# b) Tạo np_heights\n",
    "np_heights = np.array(heights)\n",
    "print(np_heights.dtype)\n",
    "\n",
    "if np_positions.shape == np_heights.shape:\n",
    "    avg_height_GK = np.mean(np_heights[np_positions == 'GK'])\n",
    "    print(f\"Chiều cao trung bình của các GK: {avg_height_GK}\")\n",
    "else:\n",
    "    print(\"Dữ liệu không đồng bộ giữa chiều cao và vị trí.\")\n",
    "\n",
    "\n",
    "# Tạo mảng structured array cho các cầu thủ\n",
    "players = np.empty((len(heights),), dtype=[('height', 'float'), ('position', 'U2')])\n",
    "players['height'] = np_heights\n",
    "players['position'] = np_positions\n",
    "\n",
    "# Sắp xếp các cầu thủ theo chiều cao\n",
    "sorted_players = np.sort(players, order='height')\n",
    "highest = sorted_players[-1]\n",
    "lowest = sorted_players[0]\n",
    "\n",
    "print(f\"Vị trí cao nhất: {highest['position']} với chiều cao {highest['height']}\")\n",
    "print(f\"Vị trí thấp nhất: {lowest['position']} với chiều cao {lowest['height']}\")\n",
    "\n",
    "\n"
   ]
  },
  {
   "cell_type": "code",
   "execution_count": null,
   "metadata": {},
   "outputs": [],
   "source": []
  }
 ],
 "metadata": {
  "kernelspec": {
   "display_name": "Python 3",
   "language": "python",
   "name": "python3"
  },
  "language_info": {
   "codemirror_mode": {
    "name": "ipython",
    "version": 3
   },
   "file_extension": ".py",
   "mimetype": "text/x-python",
   "name": "python",
   "nbconvert_exporter": "python",
   "pygments_lexer": "ipython3",
   "version": "3.13.0"
  }
 },
 "nbformat": 4,
 "nbformat_minor": 2
}
