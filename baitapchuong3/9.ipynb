{
 "cells": [
  {
   "cell_type": "code",
   "execution_count": null,
   "metadata": {},
   "outputs": [],
   "source": [
    "import pandas as pd\n",
    "\n",
    "euro12 = pd.read_csv('euro2012.csv')\n",
    "print(euro12.dtypes, euro12.shape)\n",
    "print(euro12.columns)\n",
    "\n",
    "print(euro12['Goals'])\n",
    "\n",
    "teams_count = euro12['Team'].nunique()\n",
    "print(f\"Số đội tham gia Euro 2012: {teams_count}\")\n",
    "\n",
    "print(euro12.info())\n",
    "\n",
    "discipline = euro12[['Team', 'Yellow Cards', 'Red Cards']]\n",
    "\n",
    "discipline_sorted = discipline.sort_values(by=['Red Cards', 'Yellow Cards'], ascending=False)\n",
    "\n",
    "avg_yellow_cards = discipline['Yellow Cards'].mean()\n",
    "print(f\"Trung bình Yellow Cards: {avg_yellow_cards}\")\n",
    "\n",
    "teams_more_than_6_goals = euro12[euro12['Goals'] > 6]\n",
    "print(teams_more_than_6_goals)\n",
    "\n",
    "teams_starting_with_G = euro12[euro12['Team'].str.startswith('G')]\n",
    "print(teams_starting_with_G)\n",
    "\n",
    "print(euro12.iloc[:, :7])\n",
    "\n",
    "print(euro12.iloc[:, :-3])\n",
    "print(euro12[['Team', 'Goals', 'Shooting Accuracy', 'Yellow Cards', 'Red Cards']])\n",
    "\n",
    "filtered_teams = euro12[euro12['Team'].isin(['England', 'Italy', 'Russia'])]\n",
    "print(filtered_teams[['Team', 'Shooting Accuracy']])\n"
   ]
  },
  {
   "cell_type": "code",
   "execution_count": null,
   "metadata": {},
   "outputs": [],
   "source": []
  }
 ],
 "metadata": {
  "kernelspec": {
   "display_name": "Python 3",
   "language": "python",
   "name": "python3"
  },
  "language_info": {
   "name": "python",
   "version": "3.13.0"
  }
 },
 "nbformat": 4,
 "nbformat_minor": 2
}
