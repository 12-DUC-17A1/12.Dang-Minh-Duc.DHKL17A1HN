{
 "cells": [
  {
   "cell_type": "code",
   "execution_count": 4,
   "metadata": {},
   "outputs": [
    {
     "name": "stdout",
     "output_type": "stream",
     "text": [
      "arr_c: [2 4]\n",
      "Phần tử chỉ có trong arr_b: [1 3 5 6]\n",
      "Phần tử từ 5 đến 10: [ 6  9 10  8  5]\n"
     ]
    }
   ],
   "source": [
    "import numpy as np\n",
    "# Khởi tạo arr_a và arr_b\n",
    "arr_a = np.array([1, 2, 3, 2, 3, 4, 3, 4, 5, 6])\n",
    "arr_b = np.array([7, 2, 10, 2, 7, 4, 9, 4, 9, 8])\n",
    "\n",
    "# Câu 1: Các phần tử duy nhất xuất hiện ở cả arr_a và arr_b\n",
    "arr_c = np.intersect1d(arr_a, arr_b)\n",
    "print(\"arr_c:\", arr_c)\n",
    "\n",
    "# Câu 2: Tạo arr_d và arr_e và chỉ giữ các phần tử xuất hiện ở arr_a\n",
    "arr_d = np.setdiff1d(arr_a, arr_b)\n",
    "print(\"Phần tử chỉ có trong arr_b:\", arr_d)\n",
    "# cau 3: cac phan tu co gia tri tu 5 den 10 cua arr_e\n",
    "arr_e = np.array([2, 6, 1, 9, 10, 3, 27, 8, 5, 26, 15])\n",
    "arr_f = arr_e[(arr_e >= 5) & (arr_e <= 10)]\n",
    "print(\"Phần tử từ 5 đến 10:\", arr_f)\n"
   ]
  },
  {
   "cell_type": "code",
   "execution_count": null,
   "metadata": {},
   "outputs": [],
   "source": []
  }
 ],
 "metadata": {
  "kernelspec": {
   "display_name": "Python 3",
   "language": "python",
   "name": "python3"
  },
  "language_info": {
   "codemirror_mode": {
    "name": "ipython",
    "version": 3
   },
   "file_extension": ".py",
   "mimetype": "text/x-python",
   "name": "python",
   "nbconvert_exporter": "python",
   "pygments_lexer": "ipython3",
   "version": "3.13.0"
  }
 },
 "nbformat": 4,
 "nbformat_minor": 2
}
