{
 "cells": [
  {
   "cell_type": "code",
   "execution_count": null,
   "metadata": {},
   "outputs": [],
   "source": [
    "with open('baseball_2D.txt') as f:\n",
    "    baseball = [line.strip().split() for line in f]\n",
    "\n",
    "np_baseball = np.array(baseball, dtype=float)  # Chuyển đổi thành mảng numpy\n",
    "print(np_baseball.dtype, np_baseball.shape)\n",
    "\n",
    "print(np_baseball[49])  # Dòng 50 (chỉ số 49)\n",
    "\n",
    "avg_height = np.mean(np_baseball[:, 0])  # Cột chiều cao\n",
    "avg_weight = np.mean(np_baseball[:, 1])  # Cột cân nặng\n",
    "print(f\"Chiều cao trung bình: {avg_height}, Cân nặng trung bình: {avg_weight}\")\n",
    "\n",
    "correlation = np.corrcoef(np_baseball[:, 0], np_baseball[:, 1])\n",
    "print(f\"Tương quan giữa chiều cao và cân nặng: {correlation[0, 1]}\")\n"
   ]
  },
  {
   "cell_type": "code",
   "execution_count": null,
   "metadata": {},
   "outputs": [],
   "source": []
  }
 ],
 "metadata": {
  "kernelspec": {
   "display_name": "Python 3",
   "language": "python",
   "name": "python3"
  },
  "language_info": {
   "name": "python",
   "version": "3.13.0"
  }
 },
 "nbformat": 4,
 "nbformat_minor": 2
}
