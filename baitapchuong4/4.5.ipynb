{
 "cells": [
  {
   "cell_type": "code",
   "execution_count": 5,
   "metadata": {},
   "outputs": [
    {
     "name": "stdout",
     "output_type": "stream",
     "text": [
      "minimum -1.9068564823999843\n",
      "25th percentile 5.827408337021432\n",
      "mendian 9.541997234525768\n",
      "75th percentile 13.97318247414292\n",
      "max 17.908226034168283\n"
     ]
    }
   ],
   "source": [
    "# cho du lieu series\n",
    "import numpy as np\n",
    "import pandas as pd\n",
    "ser= pd.Series(np.random.normal(10, 5, 25))\n",
    "# gia tri toi thieu\n",
    "print(\"minimum\",ser.min())\n",
    "# centile 25\n",
    "print(\"25th percentile\",ser.quantile(0.25))\n",
    "# trung vi\n",
    "print(\"mendian\",ser.median())\n",
    "# centile 75\n",
    "print(\"75th percentile\",ser.quantile(0.75))\n",
    "# max\n",
    "print(\"max\",ser.max())\n",
    "\n",
    "\n",
    "\n",
    "\n",
    "\n"
   ]
  },
  {
   "cell_type": "code",
   "execution_count": null,
   "metadata": {},
   "outputs": [],
   "source": []
  }
 ],
 "metadata": {
  "kernelspec": {
   "display_name": "Python 3",
   "language": "python",
   "name": "python3"
  },
  "language_info": {
   "codemirror_mode": {
    "name": "ipython",
    "version": 3
   },
   "file_extension": ".py",
   "mimetype": "text/x-python",
   "name": "python",
   "nbconvert_exporter": "python",
   "pygments_lexer": "ipython3",
   "version": "3.13.0"
  }
 },
 "nbformat": 4,
 "nbformat_minor": 2
}
