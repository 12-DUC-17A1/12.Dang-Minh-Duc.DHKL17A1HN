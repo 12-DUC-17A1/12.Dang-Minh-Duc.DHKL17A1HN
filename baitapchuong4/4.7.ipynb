{
 "cells": [
  {
   "cell_type": "code",
   "execution_count": 2,
   "metadata": {},
   "outputs": [
    {
     "name": "stdout",
     "output_type": "stream",
     "text": [
      "\n",
      "Series sau khi thay các phần tử không thuộc top 2 bằng 'Other':\n",
      "0         3\n",
      "1     Other\n",
      "2         2\n",
      "3         2\n",
      "4         3\n",
      "5         3\n",
      "6         2\n",
      "7     Other\n",
      "8         2\n",
      "9     Other\n",
      "10        2\n",
      "11        2\n",
      "dtype: object\n"
     ]
    }
   ],
   "source": [
    "import numpy as np\n",
    "import pandas as pd\n",
    "np.random.RandomState(100)\n",
    "ser = pd.Series(np.random.randint(1, 5, 12))\n",
    "\n",
    "# Giữ nguyên top 2 tần suất cao nhất và thay các phần tử còn lại bằng 'Other'\n",
    "top2 = ser.value_counts().nlargest(2).index\n",
    "ser = ser.apply(lambda x: x if x in top2 else 'Other')\n",
    "print(\"\\nSeries sau khi thay các phần tử không thuộc top 2 bằng 'Other':\")\n",
    "print(ser)\n"
   ]
  },
  {
   "cell_type": "code",
   "execution_count": null,
   "metadata": {},
   "outputs": [],
   "source": []
  }
 ],
 "metadata": {
  "kernelspec": {
   "display_name": "Python 3",
   "language": "python",
   "name": "python3"
  },
  "language_info": {
   "codemirror_mode": {
    "name": "ipython",
    "version": 3
   },
   "file_extension": ".py",
   "mimetype": "text/x-python",
   "name": "python",
   "nbconvert_exporter": "python",
   "pygments_lexer": "ipython3",
   "version": "3.13.0"
  }
 },
 "nbformat": 4,
 "nbformat_minor": 2
}
