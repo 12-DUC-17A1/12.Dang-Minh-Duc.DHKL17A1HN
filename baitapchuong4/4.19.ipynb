{
 "cells": [
  {
   "cell_type": "code",
   "execution_count": 1,
   "metadata": {},
   "outputs": [
    {
     "name": "stdout",
     "output_type": "stream",
     "text": [
      "Khối lượng trung bình của từng loại quả:\n",
      "Fruit\n",
      "apple     9.000000\n",
      "banana    6.666667\n",
      "carrot    4.333333\n",
      "Name: Weight, dtype: float64\n"
     ]
    }
   ],
   "source": [
    "import pandas as pd\n",
    "import numpy as np\n",
    "\n",
    "# Input\n",
    "fruit = pd.Series(np.random.choice(['apple', 'banana', 'carrot'], 10))\n",
    "weights = pd.Series(np.linspace(1, 10, 10))\n",
    "\n",
    "# Tạo DataFrame để nhóm dữ liệu\n",
    "df = pd.DataFrame({'Fruit': fruit, 'Weight': weights})\n",
    "\n",
    "# Tính khối lượng trung bình theo từng loại quả\n",
    "average_weights = df.groupby('Fruit')['Weight'].mean()\n",
    "\n",
    "# In kết quả\n",
    "print(\"Khối lượng trung bình của từng loại quả:\")\n",
    "print(average_weights)"
   ]
  },
  {
   "cell_type": "code",
   "execution_count": null,
   "metadata": {},
   "outputs": [],
   "source": []
  }
 ],
 "metadata": {
  "kernelspec": {
   "display_name": "Python 3",
   "language": "python",
   "name": "python3"
  },
  "language_info": {
   "codemirror_mode": {
    "name": "ipython",
    "version": 3
   },
   "file_extension": ".py",
   "mimetype": "text/x-python",
   "name": "python",
   "nbconvert_exporter": "python",
   "pygments_lexer": "ipython3",
   "version": "3.13.0"
  }
 },
 "nbformat": 4,
 "nbformat_minor": 2
}
