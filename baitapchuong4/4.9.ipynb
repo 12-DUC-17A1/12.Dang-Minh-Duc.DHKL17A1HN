{
 "cells": [
  {
   "cell_type": "code",
   "execution_count": 7,
   "metadata": {},
   "outputs": [
    {
     "name": "stdout",
     "output_type": "stream",
     "text": [
      "Đoạn mã tạo Series 35 số nguyên ngẫu nhiên từ 1 đến 9.\n",
      "\n",
      "DataFrame định hình lại:\n",
      "   0  1  2  3  4\n",
      "0  7  2  6  6  5\n",
      "1  7  6  7  2  5\n",
      "2  8  4  8  6  9\n",
      "3  4  8  2  5  3\n",
      "4  9  4  5  6  1\n",
      "5  9  7  2  7  2\n",
      "6  3  3  8  2  8\n"
     ]
    }
   ],
   "source": [
    "import numpy as np\n",
    "import pandas as pd\n",
    "ser = pd.Series(np.random.randint(1, 10, 35))\n",
    "\n",
    "# Giải thích ý nghĩa: Tạo Series gồm 35 giá trị ngẫu nhiên trong khoảng [1, 10)\n",
    "print(\"Đoạn mã tạo Series 35 số nguyên ngẫu nhiên từ 1 đến 9.\")\n",
    "\n",
    "# Định hình lại Series thành DataFrame có 7 hàng và 5 cột\n",
    "df = pd.DataFrame(ser.values.reshape(7, 5))\n",
    "print(\"\\nDataFrame định hình lại:\")\n",
    "print(df)\n"
   ]
  },
  {
   "cell_type": "code",
   "execution_count": null,
   "metadata": {},
   "outputs": [],
   "source": []
  }
 ],
 "metadata": {
  "language_info": {
   "name": "python"
  }
 },
 "nbformat": 4,
 "nbformat_minor": 2
}
