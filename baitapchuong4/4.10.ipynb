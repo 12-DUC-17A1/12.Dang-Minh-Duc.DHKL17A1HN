{
 "cells": [
  {
   "cell_type": "code",
   "execution_count": 4,
   "metadata": {},
   "outputs": [
    {
     "name": "stdout",
     "output_type": "stream",
     "text": [
      "vi tri cua cac so boi cua 3 tu ser Index([0, 2, 4, 5, 6], dtype='int64')\n"
     ]
    }
   ],
   "source": [
    "# cho ser\n",
    "import numpy as np\n",
    "import pandas as pd\n",
    "ser =pd.Series(np.random.randint(1,10,7))\n",
    "# vi tri boi cua 3 trong ser\n",
    "vi_tri=ser[ser%3==0].index\n",
    "print(\"vi tri cua cac so boi cua 3 tu ser\",vi_tri)"
   ]
  }
 ],
 "metadata": {
  "kernelspec": {
   "display_name": "Python 3",
   "language": "python",
   "name": "python3"
  },
  "language_info": {
   "codemirror_mode": {
    "name": "ipython",
    "version": 3
   },
   "file_extension": ".py",
   "mimetype": "text/x-python",
   "name": "python",
   "nbconvert_exporter": "python",
   "pygments_lexer": "ipython3",
   "version": "3.13.0"
  }
 },
 "nbformat": 4,
 "nbformat_minor": 2
}
